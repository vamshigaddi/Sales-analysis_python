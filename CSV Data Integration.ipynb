{
 "cells": [
  {
   "cell_type": "code",
   "execution_count": 1,
   "id": "749af34a",
   "metadata": {},
   "outputs": [
    {
     "name": "stdout",
     "output_type": "stream",
     "text": [
      "Integration completed. Updated master file saved as 'NiftyIndicesData_updated.csv'.\n"
     ]
    }
   ],
   "source": [
    "import pandas as pd\n",
    "import os\n",
    "\n",
    "# Function to merge additional CSV files based on the 'Date' column\n",
    "def merge_additional_csv(additional_folder):\n",
    "    # Get a list of additional CSV files\n",
    "    additional_files = [f for f in os.listdir(additional_folder) if f.startswith('AdditionalCSV')]\n",
    "    \n",
    "    # Initialize an empty list to store file paths\n",
    "    files = []\n",
    "    \n",
    "    # Iterate through additional CSV files\n",
    "    for file in additional_files:\n",
    "        file_path = os.path.join(additional_folder, file)\n",
    "        files.append(file_path)\n",
    "\n",
    "    # Read the first additional CSV file\n",
    "    df1 = pd.read_csv(files[0])\n",
    "\n",
    "    # Read the second additional CSV file\n",
    "    df2 = pd.read_csv(files[1])\n",
    "\n",
    "    # Merge additional data based on 'Date' column\n",
    "    merged_df = pd.merge(df1, df2, on='Date', how='outer')  # Merge based on the 'Date' column\n",
    "    \n",
    "    return merged_df\n",
    "\n",
    "\n",
    "# Step 1: Read the master CSV file\n",
    "master_folder = '.'  # Assuming the script is located in the same directory as the CSV files\n",
    "master_file = 'NiftyIndicesData.csv'\n",
    "master_path = os.path.join(master_folder, master_file)\n",
    "master_df = pd.read_csv(master_path)\n",
    "\n",
    "\n",
    "# Step 2: Merge additional CSV files\n",
    "additional_folder = '.'  # Assuming the script is located in the same directory as the CSV files\n",
    "merged_df = merge_additional_csv(additional_folder)\n",
    "\n",
    "\n",
    "# Step 3: Concatenate merged_df with master_df\n",
    "final_df = pd.concat([master_df, merged_df])\n",
    "\n",
    "# Forward fill missing values in the 'Date' column\n",
    "final_df['Date'] = final_df['Date'].fillna(method='ffill')\n",
    "\n",
    "# Save the updated master dataframe as a CSV file\n",
    "output_file = 'NiftyIndicesData_updated.csv'\n",
    "output_path = os.path.join(master_folder, output_file)\n",
    "final_df.to_csv(output_path, index=False)\n",
    "\n",
    "print(\"Integration completed. Updated master file saved as 'NiftyIndicesData_updated.csv'.\")\n"
   ]
  },
  {
   "cell_type": "code",
   "execution_count": null,
   "id": "b7e57de6",
   "metadata": {},
   "outputs": [],
   "source": []
  }
 ],
 "metadata": {
  "kernelspec": {
   "display_name": "Python 3 (ipykernel)",
   "language": "python",
   "name": "python3"
  },
  "language_info": {
   "codemirror_mode": {
    "name": "ipython",
    "version": 3
   },
   "file_extension": ".py",
   "mimetype": "text/x-python",
   "name": "python",
   "nbconvert_exporter": "python",
   "pygments_lexer": "ipython3",
   "version": "3.10.9"
  }
 },
 "nbformat": 4,
 "nbformat_minor": 5
}
